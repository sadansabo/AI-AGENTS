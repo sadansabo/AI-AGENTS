{
  "nbformat": 4,
  "nbformat_minor": 0,
  "metadata": {
    "colab": {
      "provenance": [],
      "authorship_tag": "ABX9TyPX/gw2j2MBA6Uae+rLtSAB",
      "include_colab_link": true
    },
    "kernelspec": {
      "name": "python3",
      "display_name": "Python 3"
    },
    "language_info": {
      "name": "python"
    }
  },
  "cells": [
    {
      "cell_type": "markdown",
      "metadata": {
        "id": "view-in-github",
        "colab_type": "text"
      },
      "source": [
        "<a href=\"https://colab.research.google.com/github/sadansabo/AI-AGENTS/blob/main/Recycle_Bot.ipynb\" target=\"_parent\"><img src=\"https://colab.research.google.com/assets/colab-badge.svg\" alt=\"Open In Colab\"/></a>"
      ]
    },
    {
      "cell_type": "code",
      "source": [
        "\n",
        "\n",
        "!pip install gradio --quiet\n",
        "\n",
        "import gradio as gr\n",
        "import difflib\n",
        "\n",
        "\n",
        "\n",
        "recycle_data = {\n",
        "    # Paper & Cardboard\n",
        "    'newspaper': '♻️ Recyclable',\n",
        "    'magazine': '♻️ Recyclable',\n",
        "    'office paper': '♻️ Recyclable',\n",
        "    'cardboard': '♻️ Recyclable',\n",
        "    'paper bag': '♻️ Recyclable',\n",
        "\n",
        "    # Plastics\n",
        "    'plastic bottle': '♻️ Recyclable',\n",
        "    'water bottle': '♻️ Recyclable',\n",
        "    'milk jug': '♻️ Recyclable',\n",
        "    'detergent bottle': '♻️ Recyclable',\n",
        "    'yogurt cup': '♻️ Recyclable (check local rules)',\n",
        "    'plastic container': '♻️ Recyclable (check number on bottom)',\n",
        "    'plastic bag': '🚫 Not recyclable curbside (store drop-off only)',\n",
        "    'cling film': '🚫 Not recyclable',\n",
        "    'straw': '🚫 Not recyclable',\n",
        "\n",
        "    # Metals\n",
        "    'aluminum can': '♻️ Recyclable',\n",
        "    'tin can': '♻️ Recyclable',\n",
        "    'steel can': '♻️ Recyclable',\n",
        "    'foil': '♻️ Recyclable if clean',\n",
        "    'metal lid': '♻️ Recyclable',\n",
        "\n",
        "    # Glass\n",
        "    'glass bottle': '♻️ Recyclable',\n",
        "    'glass jar': '♻️ Recyclable',\n",
        "    'broken glass': '🚫 Not recyclable curbside',\n",
        "\n",
        "    # Hazardous / Special\n",
        "    'batteries': '⚠️ Hazardous waste – recycle at special collection points',\n",
        "    'electronics': '⚠️ E-waste – take to e-waste recycling centers',\n",
        "    'light bulb': '⚠️ Recyclable at special facilities',\n",
        "    'paint can': '⚠️ Special disposal required',\n",
        "    'styrofoam': '🚫 Not recyclable curbside'\n",
        "}\n",
        "\n",
        "compost_data = {\n",
        "    # Fruit & Veg Waste\n",
        "    'banana peel': '🌱 Compostable',\n",
        "    'apple core': '🌱 Compostable',\n",
        "    'orange peel': '🌱 Compostable',\n",
        "    'vegetable scraps': '🌱 Compostable',\n",
        "    'grape stems': '🌱 Compostable',\n",
        "\n",
        "    # Garden Waste\n",
        "    'grass clippings': '🌱 Compostable',\n",
        "    'leaves': '🌱 Compostable',\n",
        "    'twigs': '🌱 Compostable',\n",
        "    'flowers': '🌱 Compostable',\n",
        "\n",
        "    # Food Waste\n",
        "    'coffee grounds': '🌱 Compostable',\n",
        "    'tea bag': '🌱 Compostable',\n",
        "    'egg shell': '🌱 Compostable',\n",
        "    'bread': '🌱 Compostable in moderation',\n",
        "    'rice': '🚫 Not ideal (can attract pests)',\n",
        "\n",
        "    # Not Compostable\n",
        "    'meat': '🚫 Not compostable (attracts pests)',\n",
        "    'fish': '🚫 Not compostable (odor & pests)',\n",
        "    'dairy': '🚫 Not compostable (odor issues)',\n",
        "    'oil': '🚫 Not compostable',\n",
        "    'plastic': '🚫 Not compostable',\n",
        "    'metal': '🚫 Not compostable',\n",
        "    'glass': '🚫 Not compostable'\n",
        "}\n",
        "\n",
        "\n",
        "def eco_tools(tool, item):\n",
        "    item = item.lower().strip()\n",
        "\n",
        "\n",
        "    data = recycle_data if tool == 'Recycle Checker' else compost_data\n",
        "\n",
        "\n",
        "    if item in data:\n",
        "        return data[item]\n",
        "\n",
        "\n",
        "    close_matches = difflib.get_close_matches(item, data.keys(), n=1, cutoff=0.6)\n",
        "    if close_matches:\n",
        "        match = close_matches[0]\n",
        "        return f\"{data[match]} (matched: {match})\"\n",
        "\n",
        "\n",
        "    return \"🤔 Not sure – check your local recycling or composting guidelines.\"\n",
        "\n",
        "\n",
        "demo = gr.Interface(\n",
        "    fn=eco_tools,\n",
        "    inputs=[\n",
        "        gr.Dropdown(['Recycle Checker', 'Compost Checker'], label='Choose Tool'),\n",
        "        gr.Textbox(label='Enter an item')\n",
        "    ],\n",
        "    outputs=\"text\",\n",
        "    title=\"♻️🌱 Eco Tools Bot\",\n",
        "    description=\"Check if an item is recyclable or compostable – now with fuzzy matching & emoji fun!\"\n",
        ")\n",
        "\n",
        "\n",
        "demo.launch(share=True)\n"
      ],
      "metadata": {
        "colab": {
          "base_uri": "https://localhost:8080/",
          "height": 611
        },
        "id": "hoHc5oJdamUj",
        "outputId": "20fd74c8-158f-406a-9782-df7829418c7f"
      },
      "execution_count": 3,
      "outputs": [
        {
          "output_type": "stream",
          "name": "stdout",
          "text": [
            "Colab notebook detected. To show errors in colab notebook, set debug=True in launch()\n",
            "* Running on public URL: https://ecdd8401dca028a9c9.gradio.live\n",
            "\n",
            "This share link expires in 1 week. For free permanent hosting and GPU upgrades, run `gradio deploy` from the terminal in the working directory to deploy to Hugging Face Spaces (https://huggingface.co/spaces)\n"
          ]
        },
        {
          "output_type": "display_data",
          "data": {
            "text/plain": [
              "<IPython.core.display.HTML object>"
            ],
            "text/html": [
              "<div><iframe src=\"https://ecdd8401dca028a9c9.gradio.live\" width=\"100%\" height=\"500\" allow=\"autoplay; camera; microphone; clipboard-read; clipboard-write;\" frameborder=\"0\" allowfullscreen></iframe></div>"
            ]
          },
          "metadata": {}
        },
        {
          "output_type": "execute_result",
          "data": {
            "text/plain": []
          },
          "metadata": {},
          "execution_count": 3
        }
      ]
    }
  ]
}